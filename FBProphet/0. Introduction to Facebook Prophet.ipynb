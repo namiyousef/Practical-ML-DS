{
 "cells": [
  {
   "cell_type": "markdown",
   "metadata": {},
   "source": [
    "# 0. Introduction to Facebook Prophet\n",
    "\n",
    "<img src=\"Images/Prophet_image.png\">\n",
    "<center style=\"color: gray; font-style: italic\">Forecasting on Peyton Manning's Wikipedia page views using Facebook Prophet.</center>\n",
    "<div style=\"visibility:hidden\">https://facebook.github.io/prophet/docs/quick_start.html</div>\n",
    "\n",
    "### Structure of the module:\n",
    "\n",
    "0. Introduction to Facebook Prophet\n",
    "1. Trend flexibility and changepoints\n",
    "2. Dealing with seasonality \n",
    "3. Reinforcement - Converging forecasts\n",
    "4. Reinforcement - Fourier order of fit\n",
    "5. Reinforcement - Conditional and non-daily seasonalities\n",
    "6. Reinforcement - Model deployment and management\n",
    "7. Extension - Custom trends\n",
    "8. Extension - The maths behind Prophet\n",
    "9. PROJECT - **project title goes here**\n",
    "\n",
    "\n",
    "\n",
    "### In this Notebook, you will...\n",
    "\n",
    "1. Get familiar with what Facebook Prophet is, what it's strengths and limitations are\n",
    "2. Learn how to implement a basic Prophet model on data from **source**\n",
    "3. Learn how to save and retrieve a Prophet model\n",
    "4. Get your hands dirty by implementing a model on **find an idea**\n",
    "\n",
    "\n",
    "Please note that in-text citations will be cited appropriately. Images will not be cited within the references; instead their links can be found by double-clicking the relevant cells, and finding the HTML tags that have links."
   ]
  },
  {
   "cell_type": "markdown",
   "metadata": {},
   "source": [
    "# What is Facebook Prophet?\n",
    "\n",
    "Facebook Prophet is the industry standard for forecasting time-series data due to it's ease of use and similarity with other common data science libraries, such as sklearn [1]. It works very well with seasonal data, and is robust to missing data and outliers [2]. In fact, Prophet was designed to reduce the data science skills gap by automating time-series forecasts [3].\n",
    "\n",
    "### What makes Prophet so powerful?\n",
    "\n",
    "Prophet is great because it's fairly easy to get started with and it handles things such as seasonality, trends and missing data very well. For those starting their journey with time-series data analysis, Prophet is great for it provides an *easy* way to make predictions without the need for an 'expert' knowledge in either the industry where it is applied or even data science. That said though, a true expert (which hopefully you'll all be by the end of the course!) will be able to tune it's parameters to solve problems of different difficulties.\n",
    "\n",
    "The Prophet model works best when you have data that contains strong seasonalities and lots of historical data.\n",
    "\n",
    "If you are unaware with the term 'Seasonality', it refers to \"regular and predictable changes\" [4] that occur at the start of a pre-defined timeframe. So using the example of Peyton Manning's Wikipedia page views above, you can see that each year as a repeating trend that looks somewhat representative of a 'V'. The views heighten near the beginning and end of the year. Don't worry if you don't grasp the gravity of seasonality just yet, we'll be discussing it in detail through this module.\n",
    "\n",
    "### Weaknesses of Prophet\n",
    "\n",
    "Since we know Prophet's strengths, we can clearly identify weaknesses.\n",
    "\n",
    "The greatest is perhaps the fact that Prophet requires lots of historical data. Further, one must note that for datasets that don't have a very clear seasonality, Prophet may not perform well. Prophet models also struggle with highly-skewed data.\n",
    "\n",
    "An example of this could be the following dataset.\n",
    "\n",
    "<img style=\"width:60%\" src=\"Images/Low_seasonality_data.png\">\n",
    "<center style=\"color: gray; font-style: italic\">Time-series data of total gyration measured by an Arduino Nano BLE in a person's pocket.</center>\n",
    "\n",
    "<div style=\"visibility:hidden\"> https://github.com/namiyousef/Kin-Keepers/blob/master/Anomaly%20Detection%20in%20Significant%20Movements/Images/Ignacio_moving_average_1.png</div>\n",
    "\n",
    "The blue dots are essentially time-series data (the orange being a moving average - don't worry about the fact that it's discontinuous as this is not relevant). As you can see from the blue dots, there is no clear seasonality. Further to this, the data collected is representative of ~ 4 days. Further to this, the data is highly high-skewed (you can see this on the graph by the proportion of points that are close to 0!). Such datasets are not suitable for Prophet. \n",
    "\n",
    "Another weakness of Prophet is it's functionality regarding daily seasonalities (i.e. when you have repetitive features every day); this will be discussed in further notebooks. \n",
    "\n",
    "Now that you have an idea of what Prophet is, let's start playing!"
   ]
  },
  {
   "cell_type": "markdown",
   "metadata": {},
   "source": [
    "# Basic implementation\n",
    "\n",
    "For the purposes of this Module, I've tried had to find datasets other than those available on the Prophet webpage, hoping to introduce you to different problems that have different challenges. That said, where I teach in the notebooks, I'll make use of already preprocessed data... for the challenges though, you will have to process them yourself to get practising ;)\n",
    "\n"
   ]
  },
  {
   "cell_type": "markdown",
   "metadata": {},
   "source": [
    "# Model evaluation"
   ]
  },
  {
   "cell_type": "markdown",
   "metadata": {},
   "source": [
    "# Saving and retrieving a Prophet model"
   ]
  },
  {
   "cell_type": "code",
   "execution_count": 1,
   "metadata": {},
   "outputs": [],
   "source": [
    "# saving the model using pickle\n",
    "\n",
    "# saving the model using json"
   ]
  },
  {
   "cell_type": "markdown",
   "metadata": {},
   "source": [
    "# References\n",
    "\n",
    "1. https://facebook.github.io/prophet/docs/quick_start.html#python-api\n",
    "2. https://facebook.github.io/prophet/\n",
    "3. https://medium.com/future-vision/intro-to-prophet-9d5b1cbd674e\n",
    "4. https://www.investopedia.com/terms/s/seasonality.asp\n"
   ]
  },
  {
   "cell_type": "code",
   "execution_count": null,
   "metadata": {},
   "outputs": [],
   "source": []
  }
 ],
 "metadata": {
  "kernelspec": {
   "display_name": "AiCore",
   "language": "python",
   "name": "aicore"
  },
  "language_info": {
   "codemirror_mode": {
    "name": "ipython",
    "version": 3
   },
   "file_extension": ".py",
   "mimetype": "text/x-python",
   "name": "python",
   "nbconvert_exporter": "python",
   "pygments_lexer": "ipython3",
   "version": "3.7.6"
  }
 },
 "nbformat": 4,
 "nbformat_minor": 4
}
